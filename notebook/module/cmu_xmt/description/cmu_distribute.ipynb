{
 "cells": [
  {
   "cell_type": "code",
   "execution_count": null,
   "id": "109eef00",
   "metadata": {},
   "outputs": [],
   "source": [
    "from mmsdk import mmdatasdk as md\n",
    "import numpy as np\n",
    "import os\n",
    "\n",
    "# 데이터 경로 설정\n",
    "data_path = \"D:/CMU-MultimodalSDK/data/mosei\"\n",
    "label_config = {\n",
    "    \"labels\": os.path.join(data_path, \"CMU_MOSEI_Labels.csd\")\n",
    "}\n",
    "\n",
    "# 데이터셋 로드\n",
    "label_dataset = md.mmdataset(label_config)\n",
    "\n",
    "# 잘못된 접근 방식: label_dataset.get(\"labels\") ❌\n",
    "# 올바른 접근 방식:\n",
    "all_labels = label_dataset['labels'].data\n",
    "\n",
    "# 전체 soft label 수집\n",
    "label_vectors = []\n",
    "for video_id in all_labels:\n",
    "    for segment in all_labels[video_id]:\n",
    "        label_vectors.append(segment[0])  # 7차원 감정 soft label\n",
    "\n",
    "# numpy array로 변환 후 평균 분포 출력\n",
    "label_array = np.array(label_vectors)\n",
    "mean_distribution = label_array.mean(axis=0)\n",
    "\n",
    "# 감정 라벨 이름\n",
    "emotion_names = ['Happy', 'Sad', 'Angry', 'Disgust', 'Fear', 'Surprise', 'Neutral']\n",
    "\n",
    "print(\"📊 MOSEI 감정 soft label 평균 분포:\")\n",
    "for name, val in zip(emotion_names, mean_distribution):\n",
    "    print(f\"{name:10s} : {val:.4f}\")\n"
   ]
  }
 ],
 "metadata": {},
 "nbformat": 4,
 "nbformat_minor": 5
}
