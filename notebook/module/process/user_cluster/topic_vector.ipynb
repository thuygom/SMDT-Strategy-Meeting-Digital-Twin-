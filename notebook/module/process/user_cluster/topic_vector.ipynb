{
 "cells": [
  {
   "cell_type": "code",
   "execution_count": null,
   "id": "8f99317d",
   "metadata": {},
   "outputs": [],
   "source": [
    "import json\n",
    "\n",
    "topic_affinity_labels = {\n",
    "    \"사건 / 논란\": 0.75,\n",
    "    \"콘텐츠 평가\": 0.88,\n",
    "    \"유튜버 개인\": 0.98,\n",
    "    \"제품 / 아이템 리뷰\": 0.90,\n",
    "    \"사회 / 시사 이슈\": 0.78,\n",
    "    \"공감 / 감정 공유\": 0.85,\n",
    "    \"정보 / 꿀팁\": 0.92,\n",
    "    \"유머 / 드립\": 0.85,\n",
    "    \"질문 / 피드백\": 0.90,\n",
    "    \"기타 / 미분류\": 0.60\n",
    "}\n",
    "\n",
    "with open(\"topic_affinity_labels.json\", \"w\", encoding=\"utf-8\") as f:\n",
    "    json.dump(topic_affinity_labels, f, indent=2, ensure_ascii=False)\n",
    "\n",
    "print(\"✅ 저장 완료: topic_affinity_labels.json\")\n"
   ]
  }
 ],
 "metadata": {},
 "nbformat": 4,
 "nbformat_minor": 5
}
