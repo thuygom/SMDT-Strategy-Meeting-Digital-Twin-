{
 "cells": [
  {
   "cell_type": "code",
   "execution_count": null,
   "id": "dbc65649",
   "metadata": {},
   "outputs": [],
   "source": [
    "import json\n",
    "\n",
    "cluster_reliability = {\n",
    "    \"Aggressive\": 0.62,\n",
    "    \"Supportive\": 0.88,\n",
    "    \"Neutral Informative\": 0.81,\n",
    "    \"Sarcastic/Playful\": 0.67,\n",
    "    \"Analytical\": 0.90,\n",
    "    \"Spam/Promotional\": 0.48,\n",
    "    \"Empathetic\": 0.85\n",
    "}\n",
    "\n",
    "with open(\"cluster_reliability.json\", \"w\", encoding=\"utf-8\") as f:\n",
    "    json.dump(cluster_reliability, f, indent=2, ensure_ascii=False)\n",
    "\n",
    "print(\"✅ 저장 완료: cluster_reliability.json\")\n"
   ]
  }
 ],
 "metadata": {},
 "nbformat": 4,
 "nbformat_minor": 5
}
