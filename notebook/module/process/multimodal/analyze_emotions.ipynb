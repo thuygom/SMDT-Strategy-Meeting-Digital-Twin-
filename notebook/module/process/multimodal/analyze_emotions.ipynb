{
 "cells": [
  {
   "cell_type": "code",
   "execution_count": null,
   "id": "47f36fe5",
   "metadata": {},
   "outputs": [],
   "source": [
    "from deepface import DeepFace\n",
    "from collections import Counter\n",
    "\n",
    "def analyze_emotions(face_images):\n",
    "    emotion_counts = Counter()\n",
    "    total = 0\n",
    "\n",
    "    for face in face_images:\n",
    "        try:\n",
    "            result = DeepFace.analyze(face, actions=['emotion'], enforce_detection=False)\n",
    "            emotion = result[0]['dominant_emotion']\n",
    "            emotion_counts[emotion] += 1\n",
    "            total += 1\n",
    "        except Exception as e:\n",
    "            print(f\"분석 오류: {e}\")\n",
    "            continue\n",
    "\n",
    "    if total == 0:\n",
    "        return {}\n",
    "\n",
    "    # 감정 비율 계산\n",
    "    emotion_percentages = {emotion: (count / total) * 100 for emotion, count in emotion_counts.items()}\n",
    "    return emotion_percentages\n"
   ]
  }
 ],
 "metadata": {},
 "nbformat": 4,
 "nbformat_minor": 5
}
