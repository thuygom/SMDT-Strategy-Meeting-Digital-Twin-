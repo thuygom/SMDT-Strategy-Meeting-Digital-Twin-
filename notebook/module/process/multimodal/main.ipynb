{
 "cells": [
  {
   "cell_type": "code",
   "execution_count": null,
   "id": "95dc6976",
   "metadata": {},
   "outputs": [],
   "source": [
    "import argparse\n",
    "from detect_faces import detect_faces_from_video\n",
    "from analyze_emotions import analyze_emotions\n",
    "\n",
    "def main():\n",
    "    parser = argparse.ArgumentParser(description=\"비디오에서 감정 분석\")\n",
    "    parser.add_argument(\"video_file\", type=str, help=\"비디오 파일 경로\")\n",
    "    args = parser.parse_args()\n",
    "\n",
    "    print(\"얼굴 인식 중...\")\n",
    "    faces = detect_faces_from_video(args.video_file)\n",
    "    print(f\"{len(faces)}개의 얼굴이 감지되었습니다.\")\n",
    "\n",
    "    print(\"감정 분석 중...\")\n",
    "    results = analyze_emotions(faces)\n",
    "\n",
    "    print(\"감정 분석 결과:\")\n",
    "    for emotion, percentage in results.items():\n",
    "        print(f\"{emotion}: {percentage:.2f}%\")\n",
    "\n",
    "if __name__ == \"__main__\":\n",
    "    main()\n"
   ]
  }
 ],
 "metadata": {},
 "nbformat": 4,
 "nbformat_minor": 5
}
