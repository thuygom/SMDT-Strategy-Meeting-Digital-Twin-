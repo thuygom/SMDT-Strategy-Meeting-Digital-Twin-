{
 "cells": [
  {
   "cell_type": "code",
   "execution_count": null,
   "id": "1adc166d",
   "metadata": {},
   "outputs": [],
   "source": [
    "from transformers import AutoFeatureExtractor, AutoModelForImageClassification\n",
    "from PIL import Image\n",
    "import torch\n",
    "\n",
    "class ViTEmotionClassifier:\n",
    "    def __init__(self, model_name=\"trpakov/vit-face-expression\"):\n",
    "        self.extractor = AutoFeatureExtractor.from_pretrained(model_name)\n",
    "        self.model = AutoModelForImageClassification.from_pretrained(model_name)\n",
    "        self.model.eval()\n",
    "\n",
    "    def predict_emotion(self, image_path):\n",
    "        image = Image.open(image_path).convert(\"RGB\")\n",
    "        inputs = self.extractor(images=image, return_tensors=\"pt\")\n",
    "        with torch.no_grad():\n",
    "            outputs = self.model(**inputs)\n",
    "        pred = torch.argmax(outputs.logits, dim=1).item()\n",
    "        label = self.model.config.id2label[pred]\n",
    "        return label\n",
    "\n",
    "# 예제 실행\n",
    "if __name__ == \"__main__\":\n",
    "    classifier = ViTEmotionClassifier()\n",
    "    emotion = classifier.predict_emotion(\"example.jpg\")\n",
    "    print(\"예측된 감정:\", emotion)\n"
   ]
  }
 ],
 "metadata": {},
 "nbformat": 4,
 "nbformat_minor": 5
}
