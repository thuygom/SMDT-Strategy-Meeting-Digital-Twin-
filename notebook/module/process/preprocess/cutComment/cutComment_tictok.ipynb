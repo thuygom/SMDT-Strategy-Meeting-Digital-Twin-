{
 "cells": [
  {
   "cell_type": "code",
   "execution_count": null,
   "id": "2fc83ae9",
   "metadata": {},
   "outputs": [],
   "source": [
    "import pandas as pd\n",
    "import os\n",
    "\n",
    "# 설정\n",
    "dir_path = 'C:/Users/bandl/OneDrive/바탕 화면/youtube_data/tiktok_data/influencer/'\n",
    "DATE_CUTOFF = pd.to_datetime(\"2025-02-23\")\n",
    "\n",
    "for filename in os.listdir(dir_path):\n",
    "    if filename.endswith('.xlsx'):\n",
    "        file_path = os.path.join(dir_path, filename)\n",
    "        print(f\"\\n📂 처리 중: {filename}\")\n",
    "\n",
    "        try:\n",
    "            df = pd.read_excel(file_path)\n",
    "\n",
    "            if 'date' in df.columns:\n",
    "                # 문자열을 datetime으로 변환\n",
    "                df['date'] = pd.to_datetime(df['date'], errors='coerce')\n",
    "\n",
    "                before_len = len(df)\n",
    "                df = df[df['date'] >= DATE_CUTOFF].reset_index(drop=True)\n",
    "                after_len = len(df)\n",
    "                print(f\"🧹 날짜 필터링 완료: {before_len}개 → {after_len}개 (2025-02-23 이후만 유지)\")\n",
    "\n",
    "                # 저장\n",
    "                df.to_excel(file_path, index=False)\n",
    "                print(f\"✅ 저장 완료: {filename}\")\n",
    "            else:\n",
    "                print(f\"⚠️ 'date' 열이 없음 → 필터링 생략\")\n",
    "\n",
    "        except Exception as e:\n",
    "            print(f\"❌ 오류 발생 ({filename}): {e}\")\n"
   ]
  }
 ],
 "metadata": {},
 "nbformat": 4,
 "nbformat_minor": 5
}
