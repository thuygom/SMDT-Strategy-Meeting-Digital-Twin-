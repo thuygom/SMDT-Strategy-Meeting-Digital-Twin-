{
 "cells": [
  {
   "cell_type": "code",
   "execution_count": null,
   "id": "68336da8",
   "metadata": {},
   "outputs": [],
   "source": [
    "# decode_result.py\n",
    "import sys\n",
    "import json\n",
    "\n",
    "data = sys.stdin.read().strip()\n",
    "\n",
    "if not data:\n",
    "    print(\"⚠️ 서버 응답 없음\")\n",
    "    sys.exit(1)\n",
    "\n",
    "try:\n",
    "    parsed = json.loads(data)\n",
    "    print(\"📌 function_call:\", parsed.get(\"function_call\", \"-\"))\n",
    "    print(\"📊 result:\", parsed.get(\"result\", \"-\"))\n",
    "    print(\"🧠 gpt_summary:\", parsed.get(\"gpt_summary\", \"(없음)\"))\n",
    "except json.JSONDecodeError:\n",
    "    print(\"❌ JSON 파싱 실패. 응답 원문:\")\n",
    "    print(data)\n",
    "except Exception as e:\n",
    "    print(\"❌ 처리 중 오류 발생:\", str(e))\n"
   ]
  }
 ],
 "metadata": {},
 "nbformat": 4,
 "nbformat_minor": 5
}
