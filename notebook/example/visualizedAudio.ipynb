{
 "cells": [
  {
   "cell_type": "code",
   "execution_count": null,
   "id": "6e2db935",
   "metadata": {},
   "outputs": [],
   "source": [
    "import numpy as np\n",
    "import matplotlib.pyplot as plt\n",
    "import librosa\n",
    "\n",
    "def plot_pitch(file_path):\n",
    "    # 오디오 파일 로드\n",
    "    y, sr = librosa.load(file_path)\n",
    "    \n",
    "    # 피치 추정\n",
    "    pitches, magnitudes = librosa.piptrack(y=y, sr=sr)\n",
    "\n",
    "    # 피치를 가져오기 위한 최대값 인덱스 찾기\n",
    "    pitches = np.array([np.max(p) if np.max(p) > 0 else 0 for p in pitches.T])\n",
    "\n",
    "    # 시각화\n",
    "    plt.figure(figsize=(12, 6))\n",
    "    plt.plot(pitches, label='Pitch (Hz)')\n",
    "    plt.title(\"Pitch Tracking\")\n",
    "    plt.xlabel(\"Frame Index\")\n",
    "    plt.ylabel(\"Pitch (Hz)\")\n",
    "    plt.grid()\n",
    "    plt.legend()\n",
    "    plt.show()\n",
    "\n",
    "# 사용 예제\n",
    "file_path = \"../resource/audio.wav\"  # 여기에 WAV 파일 경로를 입력하세요\n",
    "plot_pitch(file_path)\n"
   ]
  }
 ],
 "metadata": {},
 "nbformat": 4,
 "nbformat_minor": 5
}
