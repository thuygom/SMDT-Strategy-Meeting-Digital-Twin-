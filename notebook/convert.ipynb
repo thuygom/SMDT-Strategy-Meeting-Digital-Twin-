{
 "cells": [
  {
   "cell_type": "code",
   "execution_count": null,
   "id": "30cf9cf4",
   "metadata": {},
   "outputs": [],
   "source": [
    "import os\n",
    "import nbformat\n",
    "from nbformat.v4 import new_notebook, new_code_cell\n",
    "\n",
    "def py_to_ipynb(py_file, ipynb_file):\n",
    "    with open(py_file, \"r\", encoding=\"utf-8\") as f:\n",
    "        code = f.read()\n",
    "\n",
    "    nb = new_notebook(cells=[new_code_cell(code)])\n",
    "    with open(ipynb_file, \"w\", encoding=\"utf-8\") as f:\n",
    "        nbformat.write(nb, f)\n",
    "\n",
    "    # 변환 완료 후 원본 py 삭제\n",
    "    os.remove(py_file)\n",
    "    print(f\"Deleted original: {py_file}\")\n",
    "\n",
    "def convert_all_py_to_ipynb(root=\".\"):\n",
    "    for dirpath, _, filenames in os.walk(root):\n",
    "        for filename in filenames:\n",
    "            if filename.endswith(\".py\"):\n",
    "                py_path = os.path.join(dirpath, filename)\n",
    "                ipynb_path = os.path.splitext(py_path)[0] + \".ipynb\"\n",
    "                print(f\"Converting: {py_path} -> {ipynb_path}\")\n",
    "                py_to_ipynb(py_path, ipynb_path)\n",
    "\n",
    "if __name__ == \"__main__\":\n",
    "    convert_all_py_to_ipynb(\".\")  # 현재 폴더 기준 실행\n"
   ]
  }
 ],
 "metadata": {},
 "nbformat": 4,
 "nbformat_minor": 5
}
